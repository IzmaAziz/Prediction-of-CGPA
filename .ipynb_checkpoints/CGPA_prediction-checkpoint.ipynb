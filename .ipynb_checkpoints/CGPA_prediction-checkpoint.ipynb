{
 "cells": [
  {
   "cell_type": "markdown",
   "id": "3352425d",
   "metadata": {},
   "source": [
    "- Bisma Imran CS-19016\n",
    "- Izma Aziz CS-19020\n",
    "- Ayesha Aamir CS-19026"
   ]
  },
  {
   "cell_type": "markdown",
   "id": "23eceffe",
   "metadata": {
    "id": "581234f8"
   },
   "source": [
    "# Imports"
   ]
  },
  {
   "cell_type": "code",
   "execution_count": 1,
   "id": "e593b448",
   "metadata": {
    "id": "616831e2"
   },
   "outputs": [],
   "source": [
    "## doing the necessary imports\n",
    "import pandas as pd\n",
    "import numpy as np\n",
    "import matplotlib as mlp\n",
    "import matplotlib.pyplot as plt\n",
    "import seaborn as sns\n",
    "from sklearn.linear_model import LinearRegression\n",
    "from sklearn.svm import SVR\n",
    "from sklearn.model_selection import train_test_split\n",
    "from sklearn.model_selection import cross_val_score"
   ]
  },
  {
   "cell_type": "code",
   "execution_count": 2,
   "id": "2891d803",
   "metadata": {
    "id": "190b7ebf"
   },
   "outputs": [],
   "source": [
    "## styling the visualization\n",
    "mlp.style.use('seaborn-whitegrid')"
   ]
  },
  {
   "cell_type": "markdown",
   "id": "77a9befb",
   "metadata": {},
   "source": [
    "## Reading data"
   ]
  },
  {
   "cell_type": "code",
   "execution_count": 3,
   "id": "1dabd753",
   "metadata": {},
   "outputs": [
    {
     "ename": "FileNotFoundError",
     "evalue": "[Errno 2] No such file or directory: 'The_Grades_Dataset.csv'",
     "output_type": "error",
     "traceback": [
      "\u001b[1;31m---------------------------------------------------------------------------\u001b[0m",
      "\u001b[1;31mFileNotFoundError\u001b[0m                         Traceback (most recent call last)",
      "Input \u001b[1;32mIn [3]\u001b[0m, in \u001b[0;36m<cell line: 1>\u001b[1;34m()\u001b[0m\n\u001b[1;32m----> 1\u001b[0m grades \u001b[38;5;241m=\u001b[39m \u001b[43mpd\u001b[49m\u001b[38;5;241;43m.\u001b[39;49m\u001b[43mread_csv\u001b[49m\u001b[43m(\u001b[49m\u001b[38;5;124;43m'\u001b[39;49m\u001b[38;5;124;43mThe_Grades_Dataset.csv\u001b[39;49m\u001b[38;5;124;43m'\u001b[39;49m\u001b[43m)\u001b[49m\n\u001b[0;32m      2\u001b[0m pd\u001b[38;5;241m.\u001b[39mset_option(\u001b[38;5;124m'\u001b[39m\u001b[38;5;124mdisplay.max_columns\u001b[39m\u001b[38;5;124m'\u001b[39m, \u001b[38;5;28;01mNone\u001b[39;00m)\n\u001b[0;32m      3\u001b[0m grades\u001b[38;5;241m.\u001b[39mhead()\n",
      "File \u001b[1;32m~\\anaconda3\\lib\\site-packages\\pandas\\util\\_decorators.py:311\u001b[0m, in \u001b[0;36mdeprecate_nonkeyword_arguments.<locals>.decorate.<locals>.wrapper\u001b[1;34m(*args, **kwargs)\u001b[0m\n\u001b[0;32m    305\u001b[0m \u001b[38;5;28;01mif\u001b[39;00m \u001b[38;5;28mlen\u001b[39m(args) \u001b[38;5;241m>\u001b[39m num_allow_args:\n\u001b[0;32m    306\u001b[0m     warnings\u001b[38;5;241m.\u001b[39mwarn(\n\u001b[0;32m    307\u001b[0m         msg\u001b[38;5;241m.\u001b[39mformat(arguments\u001b[38;5;241m=\u001b[39marguments),\n\u001b[0;32m    308\u001b[0m         \u001b[38;5;167;01mFutureWarning\u001b[39;00m,\n\u001b[0;32m    309\u001b[0m         stacklevel\u001b[38;5;241m=\u001b[39mstacklevel,\n\u001b[0;32m    310\u001b[0m     )\n\u001b[1;32m--> 311\u001b[0m \u001b[38;5;28;01mreturn\u001b[39;00m func(\u001b[38;5;241m*\u001b[39margs, \u001b[38;5;241m*\u001b[39m\u001b[38;5;241m*\u001b[39mkwargs)\n",
      "File \u001b[1;32m~\\anaconda3\\lib\\site-packages\\pandas\\io\\parsers\\readers.py:680\u001b[0m, in \u001b[0;36mread_csv\u001b[1;34m(filepath_or_buffer, sep, delimiter, header, names, index_col, usecols, squeeze, prefix, mangle_dupe_cols, dtype, engine, converters, true_values, false_values, skipinitialspace, skiprows, skipfooter, nrows, na_values, keep_default_na, na_filter, verbose, skip_blank_lines, parse_dates, infer_datetime_format, keep_date_col, date_parser, dayfirst, cache_dates, iterator, chunksize, compression, thousands, decimal, lineterminator, quotechar, quoting, doublequote, escapechar, comment, encoding, encoding_errors, dialect, error_bad_lines, warn_bad_lines, on_bad_lines, delim_whitespace, low_memory, memory_map, float_precision, storage_options)\u001b[0m\n\u001b[0;32m    665\u001b[0m kwds_defaults \u001b[38;5;241m=\u001b[39m _refine_defaults_read(\n\u001b[0;32m    666\u001b[0m     dialect,\n\u001b[0;32m    667\u001b[0m     delimiter,\n\u001b[1;32m   (...)\u001b[0m\n\u001b[0;32m    676\u001b[0m     defaults\u001b[38;5;241m=\u001b[39m{\u001b[38;5;124m\"\u001b[39m\u001b[38;5;124mdelimiter\u001b[39m\u001b[38;5;124m\"\u001b[39m: \u001b[38;5;124m\"\u001b[39m\u001b[38;5;124m,\u001b[39m\u001b[38;5;124m\"\u001b[39m},\n\u001b[0;32m    677\u001b[0m )\n\u001b[0;32m    678\u001b[0m kwds\u001b[38;5;241m.\u001b[39mupdate(kwds_defaults)\n\u001b[1;32m--> 680\u001b[0m \u001b[38;5;28;01mreturn\u001b[39;00m \u001b[43m_read\u001b[49m\u001b[43m(\u001b[49m\u001b[43mfilepath_or_buffer\u001b[49m\u001b[43m,\u001b[49m\u001b[43m \u001b[49m\u001b[43mkwds\u001b[49m\u001b[43m)\u001b[49m\n",
      "File \u001b[1;32m~\\anaconda3\\lib\\site-packages\\pandas\\io\\parsers\\readers.py:575\u001b[0m, in \u001b[0;36m_read\u001b[1;34m(filepath_or_buffer, kwds)\u001b[0m\n\u001b[0;32m    572\u001b[0m _validate_names(kwds\u001b[38;5;241m.\u001b[39mget(\u001b[38;5;124m\"\u001b[39m\u001b[38;5;124mnames\u001b[39m\u001b[38;5;124m\"\u001b[39m, \u001b[38;5;28;01mNone\u001b[39;00m))\n\u001b[0;32m    574\u001b[0m \u001b[38;5;66;03m# Create the parser.\u001b[39;00m\n\u001b[1;32m--> 575\u001b[0m parser \u001b[38;5;241m=\u001b[39m TextFileReader(filepath_or_buffer, \u001b[38;5;241m*\u001b[39m\u001b[38;5;241m*\u001b[39mkwds)\n\u001b[0;32m    577\u001b[0m \u001b[38;5;28;01mif\u001b[39;00m chunksize \u001b[38;5;129;01mor\u001b[39;00m iterator:\n\u001b[0;32m    578\u001b[0m     \u001b[38;5;28;01mreturn\u001b[39;00m parser\n",
      "File \u001b[1;32m~\\anaconda3\\lib\\site-packages\\pandas\\io\\parsers\\readers.py:933\u001b[0m, in \u001b[0;36mTextFileReader.__init__\u001b[1;34m(self, f, engine, **kwds)\u001b[0m\n\u001b[0;32m    930\u001b[0m     \u001b[38;5;28mself\u001b[39m\u001b[38;5;241m.\u001b[39moptions[\u001b[38;5;124m\"\u001b[39m\u001b[38;5;124mhas_index_names\u001b[39m\u001b[38;5;124m\"\u001b[39m] \u001b[38;5;241m=\u001b[39m kwds[\u001b[38;5;124m\"\u001b[39m\u001b[38;5;124mhas_index_names\u001b[39m\u001b[38;5;124m\"\u001b[39m]\n\u001b[0;32m    932\u001b[0m \u001b[38;5;28mself\u001b[39m\u001b[38;5;241m.\u001b[39mhandles: IOHandles \u001b[38;5;241m|\u001b[39m \u001b[38;5;28;01mNone\u001b[39;00m \u001b[38;5;241m=\u001b[39m \u001b[38;5;28;01mNone\u001b[39;00m\n\u001b[1;32m--> 933\u001b[0m \u001b[38;5;28mself\u001b[39m\u001b[38;5;241m.\u001b[39m_engine \u001b[38;5;241m=\u001b[39m \u001b[38;5;28;43mself\u001b[39;49m\u001b[38;5;241;43m.\u001b[39;49m\u001b[43m_make_engine\u001b[49m\u001b[43m(\u001b[49m\u001b[43mf\u001b[49m\u001b[43m,\u001b[49m\u001b[43m \u001b[49m\u001b[38;5;28;43mself\u001b[39;49m\u001b[38;5;241;43m.\u001b[39;49m\u001b[43mengine\u001b[49m\u001b[43m)\u001b[49m\n",
      "File \u001b[1;32m~\\anaconda3\\lib\\site-packages\\pandas\\io\\parsers\\readers.py:1217\u001b[0m, in \u001b[0;36mTextFileReader._make_engine\u001b[1;34m(self, f, engine)\u001b[0m\n\u001b[0;32m   1213\u001b[0m     mode \u001b[38;5;241m=\u001b[39m \u001b[38;5;124m\"\u001b[39m\u001b[38;5;124mrb\u001b[39m\u001b[38;5;124m\"\u001b[39m\n\u001b[0;32m   1214\u001b[0m \u001b[38;5;66;03m# error: No overload variant of \"get_handle\" matches argument types\u001b[39;00m\n\u001b[0;32m   1215\u001b[0m \u001b[38;5;66;03m# \"Union[str, PathLike[str], ReadCsvBuffer[bytes], ReadCsvBuffer[str]]\"\u001b[39;00m\n\u001b[0;32m   1216\u001b[0m \u001b[38;5;66;03m# , \"str\", \"bool\", \"Any\", \"Any\", \"Any\", \"Any\", \"Any\"\u001b[39;00m\n\u001b[1;32m-> 1217\u001b[0m \u001b[38;5;28mself\u001b[39m\u001b[38;5;241m.\u001b[39mhandles \u001b[38;5;241m=\u001b[39m \u001b[43mget_handle\u001b[49m\u001b[43m(\u001b[49m\u001b[43m  \u001b[49m\u001b[38;5;66;43;03m# type: ignore[call-overload]\u001b[39;49;00m\n\u001b[0;32m   1218\u001b[0m \u001b[43m    \u001b[49m\u001b[43mf\u001b[49m\u001b[43m,\u001b[49m\n\u001b[0;32m   1219\u001b[0m \u001b[43m    \u001b[49m\u001b[43mmode\u001b[49m\u001b[43m,\u001b[49m\n\u001b[0;32m   1220\u001b[0m \u001b[43m    \u001b[49m\u001b[43mencoding\u001b[49m\u001b[38;5;241;43m=\u001b[39;49m\u001b[38;5;28;43mself\u001b[39;49m\u001b[38;5;241;43m.\u001b[39;49m\u001b[43moptions\u001b[49m\u001b[38;5;241;43m.\u001b[39;49m\u001b[43mget\u001b[49m\u001b[43m(\u001b[49m\u001b[38;5;124;43m\"\u001b[39;49m\u001b[38;5;124;43mencoding\u001b[39;49m\u001b[38;5;124;43m\"\u001b[39;49m\u001b[43m,\u001b[49m\u001b[43m \u001b[49m\u001b[38;5;28;43;01mNone\u001b[39;49;00m\u001b[43m)\u001b[49m\u001b[43m,\u001b[49m\n\u001b[0;32m   1221\u001b[0m \u001b[43m    \u001b[49m\u001b[43mcompression\u001b[49m\u001b[38;5;241;43m=\u001b[39;49m\u001b[38;5;28;43mself\u001b[39;49m\u001b[38;5;241;43m.\u001b[39;49m\u001b[43moptions\u001b[49m\u001b[38;5;241;43m.\u001b[39;49m\u001b[43mget\u001b[49m\u001b[43m(\u001b[49m\u001b[38;5;124;43m\"\u001b[39;49m\u001b[38;5;124;43mcompression\u001b[39;49m\u001b[38;5;124;43m\"\u001b[39;49m\u001b[43m,\u001b[49m\u001b[43m \u001b[49m\u001b[38;5;28;43;01mNone\u001b[39;49;00m\u001b[43m)\u001b[49m\u001b[43m,\u001b[49m\n\u001b[0;32m   1222\u001b[0m \u001b[43m    \u001b[49m\u001b[43mmemory_map\u001b[49m\u001b[38;5;241;43m=\u001b[39;49m\u001b[38;5;28;43mself\u001b[39;49m\u001b[38;5;241;43m.\u001b[39;49m\u001b[43moptions\u001b[49m\u001b[38;5;241;43m.\u001b[39;49m\u001b[43mget\u001b[49m\u001b[43m(\u001b[49m\u001b[38;5;124;43m\"\u001b[39;49m\u001b[38;5;124;43mmemory_map\u001b[39;49m\u001b[38;5;124;43m\"\u001b[39;49m\u001b[43m,\u001b[49m\u001b[43m \u001b[49m\u001b[38;5;28;43;01mFalse\u001b[39;49;00m\u001b[43m)\u001b[49m\u001b[43m,\u001b[49m\n\u001b[0;32m   1223\u001b[0m \u001b[43m    \u001b[49m\u001b[43mis_text\u001b[49m\u001b[38;5;241;43m=\u001b[39;49m\u001b[43mis_text\u001b[49m\u001b[43m,\u001b[49m\n\u001b[0;32m   1224\u001b[0m \u001b[43m    \u001b[49m\u001b[43merrors\u001b[49m\u001b[38;5;241;43m=\u001b[39;49m\u001b[38;5;28;43mself\u001b[39;49m\u001b[38;5;241;43m.\u001b[39;49m\u001b[43moptions\u001b[49m\u001b[38;5;241;43m.\u001b[39;49m\u001b[43mget\u001b[49m\u001b[43m(\u001b[49m\u001b[38;5;124;43m\"\u001b[39;49m\u001b[38;5;124;43mencoding_errors\u001b[39;49m\u001b[38;5;124;43m\"\u001b[39;49m\u001b[43m,\u001b[49m\u001b[43m \u001b[49m\u001b[38;5;124;43m\"\u001b[39;49m\u001b[38;5;124;43mstrict\u001b[39;49m\u001b[38;5;124;43m\"\u001b[39;49m\u001b[43m)\u001b[49m\u001b[43m,\u001b[49m\n\u001b[0;32m   1225\u001b[0m \u001b[43m    \u001b[49m\u001b[43mstorage_options\u001b[49m\u001b[38;5;241;43m=\u001b[39;49m\u001b[38;5;28;43mself\u001b[39;49m\u001b[38;5;241;43m.\u001b[39;49m\u001b[43moptions\u001b[49m\u001b[38;5;241;43m.\u001b[39;49m\u001b[43mget\u001b[49m\u001b[43m(\u001b[49m\u001b[38;5;124;43m\"\u001b[39;49m\u001b[38;5;124;43mstorage_options\u001b[39;49m\u001b[38;5;124;43m\"\u001b[39;49m\u001b[43m,\u001b[49m\u001b[43m \u001b[49m\u001b[38;5;28;43;01mNone\u001b[39;49;00m\u001b[43m)\u001b[49m\u001b[43m,\u001b[49m\n\u001b[0;32m   1226\u001b[0m \u001b[43m\u001b[49m\u001b[43m)\u001b[49m\n\u001b[0;32m   1227\u001b[0m \u001b[38;5;28;01massert\u001b[39;00m \u001b[38;5;28mself\u001b[39m\u001b[38;5;241m.\u001b[39mhandles \u001b[38;5;129;01mis\u001b[39;00m \u001b[38;5;129;01mnot\u001b[39;00m \u001b[38;5;28;01mNone\u001b[39;00m\n\u001b[0;32m   1228\u001b[0m f \u001b[38;5;241m=\u001b[39m \u001b[38;5;28mself\u001b[39m\u001b[38;5;241m.\u001b[39mhandles\u001b[38;5;241m.\u001b[39mhandle\n",
      "File \u001b[1;32m~\\anaconda3\\lib\\site-packages\\pandas\\io\\common.py:789\u001b[0m, in \u001b[0;36mget_handle\u001b[1;34m(path_or_buf, mode, encoding, compression, memory_map, is_text, errors, storage_options)\u001b[0m\n\u001b[0;32m    784\u001b[0m \u001b[38;5;28;01melif\u001b[39;00m \u001b[38;5;28misinstance\u001b[39m(handle, \u001b[38;5;28mstr\u001b[39m):\n\u001b[0;32m    785\u001b[0m     \u001b[38;5;66;03m# Check whether the filename is to be opened in binary mode.\u001b[39;00m\n\u001b[0;32m    786\u001b[0m     \u001b[38;5;66;03m# Binary mode does not support 'encoding' and 'newline'.\u001b[39;00m\n\u001b[0;32m    787\u001b[0m     \u001b[38;5;28;01mif\u001b[39;00m ioargs\u001b[38;5;241m.\u001b[39mencoding \u001b[38;5;129;01mand\u001b[39;00m \u001b[38;5;124m\"\u001b[39m\u001b[38;5;124mb\u001b[39m\u001b[38;5;124m\"\u001b[39m \u001b[38;5;129;01mnot\u001b[39;00m \u001b[38;5;129;01min\u001b[39;00m ioargs\u001b[38;5;241m.\u001b[39mmode:\n\u001b[0;32m    788\u001b[0m         \u001b[38;5;66;03m# Encoding\u001b[39;00m\n\u001b[1;32m--> 789\u001b[0m         handle \u001b[38;5;241m=\u001b[39m \u001b[38;5;28;43mopen\u001b[39;49m\u001b[43m(\u001b[49m\n\u001b[0;32m    790\u001b[0m \u001b[43m            \u001b[49m\u001b[43mhandle\u001b[49m\u001b[43m,\u001b[49m\n\u001b[0;32m    791\u001b[0m \u001b[43m            \u001b[49m\u001b[43mioargs\u001b[49m\u001b[38;5;241;43m.\u001b[39;49m\u001b[43mmode\u001b[49m\u001b[43m,\u001b[49m\n\u001b[0;32m    792\u001b[0m \u001b[43m            \u001b[49m\u001b[43mencoding\u001b[49m\u001b[38;5;241;43m=\u001b[39;49m\u001b[43mioargs\u001b[49m\u001b[38;5;241;43m.\u001b[39;49m\u001b[43mencoding\u001b[49m\u001b[43m,\u001b[49m\n\u001b[0;32m    793\u001b[0m \u001b[43m            \u001b[49m\u001b[43merrors\u001b[49m\u001b[38;5;241;43m=\u001b[39;49m\u001b[43merrors\u001b[49m\u001b[43m,\u001b[49m\n\u001b[0;32m    794\u001b[0m \u001b[43m            \u001b[49m\u001b[43mnewline\u001b[49m\u001b[38;5;241;43m=\u001b[39;49m\u001b[38;5;124;43m\"\u001b[39;49m\u001b[38;5;124;43m\"\u001b[39;49m\u001b[43m,\u001b[49m\n\u001b[0;32m    795\u001b[0m \u001b[43m        \u001b[49m\u001b[43m)\u001b[49m\n\u001b[0;32m    796\u001b[0m     \u001b[38;5;28;01melse\u001b[39;00m:\n\u001b[0;32m    797\u001b[0m         \u001b[38;5;66;03m# Binary mode\u001b[39;00m\n\u001b[0;32m    798\u001b[0m         handle \u001b[38;5;241m=\u001b[39m \u001b[38;5;28mopen\u001b[39m(handle, ioargs\u001b[38;5;241m.\u001b[39mmode)\n",
      "\u001b[1;31mFileNotFoundError\u001b[0m: [Errno 2] No such file or directory: 'The_Grades_Dataset.csv'"
     ]
    },
    {
     "ename": "FileNotFoundError",
     "evalue": "[Errno 2] No such file or directory: 'The_Grades_Dataset.csv'",
     "output_type": "error",
     "traceback": [
      "\u001b[1;31m---------------------------------------------------------------------------\u001b[0m",
      "\u001b[1;31mFileNotFoundError\u001b[0m                         Traceback (most recent call last)",
      "Input \u001b[1;32mIn [3]\u001b[0m, in \u001b[0;36m<cell line: 1>\u001b[1;34m()\u001b[0m\n\u001b[1;32m----> 1\u001b[0m grades \u001b[38;5;241m=\u001b[39m \u001b[43mpd\u001b[49m\u001b[38;5;241;43m.\u001b[39;49m\u001b[43mread_csv\u001b[49m\u001b[43m(\u001b[49m\u001b[38;5;124;43m'\u001b[39;49m\u001b[38;5;124;43mThe_Grades_Dataset.csv\u001b[39;49m\u001b[38;5;124;43m'\u001b[39;49m\u001b[43m)\u001b[49m\n\u001b[0;32m      2\u001b[0m pd\u001b[38;5;241m.\u001b[39mset_option(\u001b[38;5;124m'\u001b[39m\u001b[38;5;124mdisplay.max_columns\u001b[39m\u001b[38;5;124m'\u001b[39m, \u001b[38;5;28;01mNone\u001b[39;00m)\n\u001b[0;32m      3\u001b[0m grades\u001b[38;5;241m.\u001b[39mhead()\n",
      "File \u001b[1;32m~\\anaconda3\\lib\\site-packages\\pandas\\util\\_decorators.py:311\u001b[0m, in \u001b[0;36mdeprecate_nonkeyword_arguments.<locals>.decorate.<locals>.wrapper\u001b[1;34m(*args, **kwargs)\u001b[0m\n\u001b[0;32m    305\u001b[0m \u001b[38;5;28;01mif\u001b[39;00m \u001b[38;5;28mlen\u001b[39m(args) \u001b[38;5;241m>\u001b[39m num_allow_args:\n\u001b[0;32m    306\u001b[0m     warnings\u001b[38;5;241m.\u001b[39mwarn(\n\u001b[0;32m    307\u001b[0m         msg\u001b[38;5;241m.\u001b[39mformat(arguments\u001b[38;5;241m=\u001b[39marguments),\n\u001b[0;32m    308\u001b[0m         \u001b[38;5;167;01mFutureWarning\u001b[39;00m,\n\u001b[0;32m    309\u001b[0m         stacklevel\u001b[38;5;241m=\u001b[39mstacklevel,\n\u001b[0;32m    310\u001b[0m     )\n\u001b[1;32m--> 311\u001b[0m \u001b[38;5;28;01mreturn\u001b[39;00m func(\u001b[38;5;241m*\u001b[39margs, \u001b[38;5;241m*\u001b[39m\u001b[38;5;241m*\u001b[39mkwargs)\n",
      "File \u001b[1;32m~\\anaconda3\\lib\\site-packages\\pandas\\io\\parsers\\readers.py:680\u001b[0m, in \u001b[0;36mread_csv\u001b[1;34m(filepath_or_buffer, sep, delimiter, header, names, index_col, usecols, squeeze, prefix, mangle_dupe_cols, dtype, engine, converters, true_values, false_values, skipinitialspace, skiprows, skipfooter, nrows, na_values, keep_default_na, na_filter, verbose, skip_blank_lines, parse_dates, infer_datetime_format, keep_date_col, date_parser, dayfirst, cache_dates, iterator, chunksize, compression, thousands, decimal, lineterminator, quotechar, quoting, doublequote, escapechar, comment, encoding, encoding_errors, dialect, error_bad_lines, warn_bad_lines, on_bad_lines, delim_whitespace, low_memory, memory_map, float_precision, storage_options)\u001b[0m\n\u001b[0;32m    665\u001b[0m kwds_defaults \u001b[38;5;241m=\u001b[39m _refine_defaults_read(\n\u001b[0;32m    666\u001b[0m     dialect,\n\u001b[0;32m    667\u001b[0m     delimiter,\n\u001b[1;32m   (...)\u001b[0m\n\u001b[0;32m    676\u001b[0m     defaults\u001b[38;5;241m=\u001b[39m{\u001b[38;5;124m\"\u001b[39m\u001b[38;5;124mdelimiter\u001b[39m\u001b[38;5;124m\"\u001b[39m: \u001b[38;5;124m\"\u001b[39m\u001b[38;5;124m,\u001b[39m\u001b[38;5;124m\"\u001b[39m},\n\u001b[0;32m    677\u001b[0m )\n\u001b[0;32m    678\u001b[0m kwds\u001b[38;5;241m.\u001b[39mupdate(kwds_defaults)\n\u001b[1;32m--> 680\u001b[0m \u001b[38;5;28;01mreturn\u001b[39;00m \u001b[43m_read\u001b[49m\u001b[43m(\u001b[49m\u001b[43mfilepath_or_buffer\u001b[49m\u001b[43m,\u001b[49m\u001b[43m \u001b[49m\u001b[43mkwds\u001b[49m\u001b[43m)\u001b[49m\n",
      "File \u001b[1;32m~\\anaconda3\\lib\\site-packages\\pandas\\io\\parsers\\readers.py:575\u001b[0m, in \u001b[0;36m_read\u001b[1;34m(filepath_or_buffer, kwds)\u001b[0m\n\u001b[0;32m    572\u001b[0m _validate_names(kwds\u001b[38;5;241m.\u001b[39mget(\u001b[38;5;124m\"\u001b[39m\u001b[38;5;124mnames\u001b[39m\u001b[38;5;124m\"\u001b[39m, \u001b[38;5;28;01mNone\u001b[39;00m))\n\u001b[0;32m    574\u001b[0m \u001b[38;5;66;03m# Create the parser.\u001b[39;00m\n\u001b[1;32m--> 575\u001b[0m parser \u001b[38;5;241m=\u001b[39m TextFileReader(filepath_or_buffer, \u001b[38;5;241m*\u001b[39m\u001b[38;5;241m*\u001b[39mkwds)\n\u001b[0;32m    577\u001b[0m \u001b[38;5;28;01mif\u001b[39;00m chunksize \u001b[38;5;129;01mor\u001b[39;00m iterator:\n\u001b[0;32m    578\u001b[0m     \u001b[38;5;28;01mreturn\u001b[39;00m parser\n",
      "File \u001b[1;32m~\\anaconda3\\lib\\site-packages\\pandas\\io\\parsers\\readers.py:933\u001b[0m, in \u001b[0;36mTextFileReader.__init__\u001b[1;34m(self, f, engine, **kwds)\u001b[0m\n\u001b[0;32m    930\u001b[0m     \u001b[38;5;28mself\u001b[39m\u001b[38;5;241m.\u001b[39moptions[\u001b[38;5;124m\"\u001b[39m\u001b[38;5;124mhas_index_names\u001b[39m\u001b[38;5;124m\"\u001b[39m] \u001b[38;5;241m=\u001b[39m kwds[\u001b[38;5;124m\"\u001b[39m\u001b[38;5;124mhas_index_names\u001b[39m\u001b[38;5;124m\"\u001b[39m]\n\u001b[0;32m    932\u001b[0m \u001b[38;5;28mself\u001b[39m\u001b[38;5;241m.\u001b[39mhandles: IOHandles \u001b[38;5;241m|\u001b[39m \u001b[38;5;28;01mNone\u001b[39;00m \u001b[38;5;241m=\u001b[39m \u001b[38;5;28;01mNone\u001b[39;00m\n\u001b[1;32m--> 933\u001b[0m \u001b[38;5;28mself\u001b[39m\u001b[38;5;241m.\u001b[39m_engine \u001b[38;5;241m=\u001b[39m \u001b[38;5;28;43mself\u001b[39;49m\u001b[38;5;241;43m.\u001b[39;49m\u001b[43m_make_engine\u001b[49m\u001b[43m(\u001b[49m\u001b[43mf\u001b[49m\u001b[43m,\u001b[49m\u001b[43m \u001b[49m\u001b[38;5;28;43mself\u001b[39;49m\u001b[38;5;241;43m.\u001b[39;49m\u001b[43mengine\u001b[49m\u001b[43m)\u001b[49m\n",
      "File \u001b[1;32m~\\anaconda3\\lib\\site-packages\\pandas\\io\\parsers\\readers.py:1217\u001b[0m, in \u001b[0;36mTextFileReader._make_engine\u001b[1;34m(self, f, engine)\u001b[0m\n\u001b[0;32m   1213\u001b[0m     mode \u001b[38;5;241m=\u001b[39m \u001b[38;5;124m\"\u001b[39m\u001b[38;5;124mrb\u001b[39m\u001b[38;5;124m\"\u001b[39m\n\u001b[0;32m   1214\u001b[0m \u001b[38;5;66;03m# error: No overload variant of \"get_handle\" matches argument types\u001b[39;00m\n\u001b[0;32m   1215\u001b[0m \u001b[38;5;66;03m# \"Union[str, PathLike[str], ReadCsvBuffer[bytes], ReadCsvBuffer[str]]\"\u001b[39;00m\n\u001b[0;32m   1216\u001b[0m \u001b[38;5;66;03m# , \"str\", \"bool\", \"Any\", \"Any\", \"Any\", \"Any\", \"Any\"\u001b[39;00m\n\u001b[1;32m-> 1217\u001b[0m \u001b[38;5;28mself\u001b[39m\u001b[38;5;241m.\u001b[39mhandles \u001b[38;5;241m=\u001b[39m \u001b[43mget_handle\u001b[49m\u001b[43m(\u001b[49m\u001b[43m  \u001b[49m\u001b[38;5;66;43;03m# type: ignore[call-overload]\u001b[39;49;00m\n\u001b[0;32m   1218\u001b[0m \u001b[43m    \u001b[49m\u001b[43mf\u001b[49m\u001b[43m,\u001b[49m\n\u001b[0;32m   1219\u001b[0m \u001b[43m    \u001b[49m\u001b[43mmode\u001b[49m\u001b[43m,\u001b[49m\n\u001b[0;32m   1220\u001b[0m \u001b[43m    \u001b[49m\u001b[43mencoding\u001b[49m\u001b[38;5;241;43m=\u001b[39;49m\u001b[38;5;28;43mself\u001b[39;49m\u001b[38;5;241;43m.\u001b[39;49m\u001b[43moptions\u001b[49m\u001b[38;5;241;43m.\u001b[39;49m\u001b[43mget\u001b[49m\u001b[43m(\u001b[49m\u001b[38;5;124;43m\"\u001b[39;49m\u001b[38;5;124;43mencoding\u001b[39;49m\u001b[38;5;124;43m\"\u001b[39;49m\u001b[43m,\u001b[49m\u001b[43m \u001b[49m\u001b[38;5;28;43;01mNone\u001b[39;49;00m\u001b[43m)\u001b[49m\u001b[43m,\u001b[49m\n\u001b[0;32m   1221\u001b[0m \u001b[43m    \u001b[49m\u001b[43mcompression\u001b[49m\u001b[38;5;241;43m=\u001b[39;49m\u001b[38;5;28;43mself\u001b[39;49m\u001b[38;5;241;43m.\u001b[39;49m\u001b[43moptions\u001b[49m\u001b[38;5;241;43m.\u001b[39;49m\u001b[43mget\u001b[49m\u001b[43m(\u001b[49m\u001b[38;5;124;43m\"\u001b[39;49m\u001b[38;5;124;43mcompression\u001b[39;49m\u001b[38;5;124;43m\"\u001b[39;49m\u001b[43m,\u001b[49m\u001b[43m \u001b[49m\u001b[38;5;28;43;01mNone\u001b[39;49;00m\u001b[43m)\u001b[49m\u001b[43m,\u001b[49m\n\u001b[0;32m   1222\u001b[0m \u001b[43m    \u001b[49m\u001b[43mmemory_map\u001b[49m\u001b[38;5;241;43m=\u001b[39;49m\u001b[38;5;28;43mself\u001b[39;49m\u001b[38;5;241;43m.\u001b[39;49m\u001b[43moptions\u001b[49m\u001b[38;5;241;43m.\u001b[39;49m\u001b[43mget\u001b[49m\u001b[43m(\u001b[49m\u001b[38;5;124;43m\"\u001b[39;49m\u001b[38;5;124;43mmemory_map\u001b[39;49m\u001b[38;5;124;43m\"\u001b[39;49m\u001b[43m,\u001b[49m\u001b[43m \u001b[49m\u001b[38;5;28;43;01mFalse\u001b[39;49;00m\u001b[43m)\u001b[49m\u001b[43m,\u001b[49m\n\u001b[0;32m   1223\u001b[0m \u001b[43m    \u001b[49m\u001b[43mis_text\u001b[49m\u001b[38;5;241;43m=\u001b[39;49m\u001b[43mis_text\u001b[49m\u001b[43m,\u001b[49m\n\u001b[0;32m   1224\u001b[0m \u001b[43m    \u001b[49m\u001b[43merrors\u001b[49m\u001b[38;5;241;43m=\u001b[39;49m\u001b[38;5;28;43mself\u001b[39;49m\u001b[38;5;241;43m.\u001b[39;49m\u001b[43moptions\u001b[49m\u001b[38;5;241;43m.\u001b[39;49m\u001b[43mget\u001b[49m\u001b[43m(\u001b[49m\u001b[38;5;124;43m\"\u001b[39;49m\u001b[38;5;124;43mencoding_errors\u001b[39;49m\u001b[38;5;124;43m\"\u001b[39;49m\u001b[43m,\u001b[49m\u001b[43m \u001b[49m\u001b[38;5;124;43m\"\u001b[39;49m\u001b[38;5;124;43mstrict\u001b[39;49m\u001b[38;5;124;43m\"\u001b[39;49m\u001b[43m)\u001b[49m\u001b[43m,\u001b[49m\n\u001b[0;32m   1225\u001b[0m \u001b[43m    \u001b[49m\u001b[43mstorage_options\u001b[49m\u001b[38;5;241;43m=\u001b[39;49m\u001b[38;5;28;43mself\u001b[39;49m\u001b[38;5;241;43m.\u001b[39;49m\u001b[43moptions\u001b[49m\u001b[38;5;241;43m.\u001b[39;49m\u001b[43mget\u001b[49m\u001b[43m(\u001b[49m\u001b[38;5;124;43m\"\u001b[39;49m\u001b[38;5;124;43mstorage_options\u001b[39;49m\u001b[38;5;124;43m\"\u001b[39;49m\u001b[43m,\u001b[49m\u001b[43m \u001b[49m\u001b[38;5;28;43;01mNone\u001b[39;49;00m\u001b[43m)\u001b[49m\u001b[43m,\u001b[49m\n\u001b[0;32m   1226\u001b[0m \u001b[43m\u001b[49m\u001b[43m)\u001b[49m\n\u001b[0;32m   1227\u001b[0m \u001b[38;5;28;01massert\u001b[39;00m \u001b[38;5;28mself\u001b[39m\u001b[38;5;241m.\u001b[39mhandles \u001b[38;5;129;01mis\u001b[39;00m \u001b[38;5;129;01mnot\u001b[39;00m \u001b[38;5;28;01mNone\u001b[39;00m\n\u001b[0;32m   1228\u001b[0m f \u001b[38;5;241m=\u001b[39m \u001b[38;5;28mself\u001b[39m\u001b[38;5;241m.\u001b[39mhandles\u001b[38;5;241m.\u001b[39mhandle\n",
      "File \u001b[1;32m~\\anaconda3\\lib\\site-packages\\pandas\\io\\common.py:789\u001b[0m, in \u001b[0;36mget_handle\u001b[1;34m(path_or_buf, mode, encoding, compression, memory_map, is_text, errors, storage_options)\u001b[0m\n\u001b[0;32m    784\u001b[0m \u001b[38;5;28;01melif\u001b[39;00m \u001b[38;5;28misinstance\u001b[39m(handle, \u001b[38;5;28mstr\u001b[39m):\n\u001b[0;32m    785\u001b[0m     \u001b[38;5;66;03m# Check whether the filename is to be opened in binary mode.\u001b[39;00m\n\u001b[0;32m    786\u001b[0m     \u001b[38;5;66;03m# Binary mode does not support 'encoding' and 'newline'.\u001b[39;00m\n\u001b[0;32m    787\u001b[0m     \u001b[38;5;28;01mif\u001b[39;00m ioargs\u001b[38;5;241m.\u001b[39mencoding \u001b[38;5;129;01mand\u001b[39;00m \u001b[38;5;124m\"\u001b[39m\u001b[38;5;124mb\u001b[39m\u001b[38;5;124m\"\u001b[39m \u001b[38;5;129;01mnot\u001b[39;00m \u001b[38;5;129;01min\u001b[39;00m ioargs\u001b[38;5;241m.\u001b[39mmode:\n\u001b[0;32m    788\u001b[0m         \u001b[38;5;66;03m# Encoding\u001b[39;00m\n\u001b[1;32m--> 789\u001b[0m         handle \u001b[38;5;241m=\u001b[39m \u001b[38;5;28;43mopen\u001b[39;49m\u001b[43m(\u001b[49m\n\u001b[0;32m    790\u001b[0m \u001b[43m            \u001b[49m\u001b[43mhandle\u001b[49m\u001b[43m,\u001b[49m\n\u001b[0;32m    791\u001b[0m \u001b[43m            \u001b[49m\u001b[43mioargs\u001b[49m\u001b[38;5;241;43m.\u001b[39;49m\u001b[43mmode\u001b[49m\u001b[43m,\u001b[49m\n\u001b[0;32m    792\u001b[0m \u001b[43m            \u001b[49m\u001b[43mencoding\u001b[49m\u001b[38;5;241;43m=\u001b[39;49m\u001b[43mioargs\u001b[49m\u001b[38;5;241;43m.\u001b[39;49m\u001b[43mencoding\u001b[49m\u001b[43m,\u001b[49m\n\u001b[0;32m    793\u001b[0m \u001b[43m            \u001b[49m\u001b[43merrors\u001b[49m\u001b[38;5;241;43m=\u001b[39;49m\u001b[43merrors\u001b[49m\u001b[43m,\u001b[49m\n\u001b[0;32m    794\u001b[0m \u001b[43m            \u001b[49m\u001b[43mnewline\u001b[49m\u001b[38;5;241;43m=\u001b[39;49m\u001b[38;5;124;43m\"\u001b[39;49m\u001b[38;5;124;43m\"\u001b[39;49m\u001b[43m,\u001b[49m\n\u001b[0;32m    795\u001b[0m \u001b[43m        \u001b[49m\u001b[43m)\u001b[49m\n\u001b[0;32m    796\u001b[0m     \u001b[38;5;28;01melse\u001b[39;00m:\n\u001b[0;32m    797\u001b[0m         \u001b[38;5;66;03m# Binary mode\u001b[39;00m\n\u001b[0;32m    798\u001b[0m         handle \u001b[38;5;241m=\u001b[39m \u001b[38;5;28mopen\u001b[39m(handle, ioargs\u001b[38;5;241m.\u001b[39mmode)\n",
      "\u001b[1;31mFileNotFoundError\u001b[0m: [Errno 2] No such file or directory: 'The_Grades_Dataset.csv'"
     ]
    }
   ],
   "source": [
    "grades = pd.read_csv('The_Grades_Dataset.csv')\n",
    "pd.set_option('display.max_columns', None)\n",
    "grades.head()"
   ]
  },
  {
   "cell_type": "markdown",
   "id": "92dcb698",
   "metadata": {},
   "source": [
    "# Helper Functions & Variables"
   ]
  },
  {
   "cell_type": "code",
   "execution_count": null,
   "id": "be6e287f",
   "metadata": {
    "id": "99c1cc1a"
   },
   "outputs": [],
   "source": [
    "# Making seperate lists of courses for each year by filtering out their respective courses.\n",
    "fe_courses=grades.filter(regex='-1').columns\n",
    "se_courses=grades.filter(regex='-2').columns\n",
    "te_courses=grades.filter(regex='-3').columns\n",
    "\n",
    "# storing lengths of courses for each model\n",
    "# model 1 having only first year courses\n",
    "one_year_courses= len(fe_courses)\n",
    "\n",
    "# model 2 having first two years courses\n",
    "two_years_courses= len(fe_courses) + len(se_courses)\n",
    "\n",
    "# model 3 having first three years courses\n",
    "three_years_courses= len(fe_courses) + len(se_courses) + len(te_courses)"
   ]
  },
  {
   "cell_type": "code",
   "execution_count": null,
   "id": "f0423214",
   "metadata": {},
   "outputs": [],
   "source": [
    "# returns proportion of not nulll values of a particular row out of the number of courses in a particular model\n",
    "def valuable_info(not_null_features, no_of_courses):\n",
    "    return (not_null_features.sum(axis=0))/ no_of_courses\n",
    "\n",
    "# prints proportions of not null values of a particular row for each model\n",
    "def print_proportions(row_not_null):\n",
    "    \n",
    "    # percentage of not null courses out of total number of first year courses\n",
    "    not_null_values_fe= row_not_null[(row_not_null==1) & (row_not_null.index.isin(fe_courses))]\n",
    "    print('FE proportion: ', valuable_info(not_null_values_fe, one_year_courses) * 100)\n",
    "\n",
    "    # percentage of not null courses out of total number of first year and second year courses \n",
    "    not_null_values_se= row_not_null[(row_not_null==1) & (row_not_null.index.isin(fe_courses.append(se_courses)))]\n",
    "    print('FE + SE proportion: ', valuable_info(not_null_values_se, two_years_courses) * 100)\n",
    "\n",
    "    # percentage of not null courses out of total number of first year, second year and third year courses\n",
    "    not_null_values_te= row_not_null[(row_not_null==1) & ~(row_not_null.index.isin(['Seat No.', 'CGPA']))]\n",
    "    print('FE + SE + TE proportion: ',valuable_info(not_null_values_te, three_years_courses) * 100)"
   ]
  },
  {
   "cell_type": "code",
   "execution_count": null,
   "id": "60b23a7f",
   "metadata": {},
   "outputs": [],
   "source": [
    "def scatter_visualization(test_features, test_target, test_predictions, test_size):\n",
    "    plt.scatter( test_features.index[:test_size],test_target[:test_size], label='Actual')\n",
    "    plt.scatter( test_features.index[:test_size],test_predictions[:test_size], c='r', alpha=0.5, label='Predicted')\n",
    "    plt.title('Visualizing actual and predicted values for first 20 test indexes')\n",
    "    plt.legend(loc= 'best')\n",
    "    plt.show()\n",
    "\n",
    "    plt.scatter( test_features.index[-test_size:],test_target[-test_size:], label='Actual')\n",
    "    plt.scatter( test_features.index[-test_size:],test_predictions[-test_size:], c='r', alpha=0.5, label='Predicted')\n",
    "    plt.title('Visualizing actual and predicted values for last 20 test indexes')\n",
    "    plt.legend(loc='best')\n",
    "    plt.show()\n",
    "\n"
   ]
  },
  {
   "cell_type": "markdown",
   "id": "7ca15a70",
   "metadata": {
    "id": "ca780099"
   },
   "source": [
    "## Analyzing Dataset For Data Cleaning "
   ]
  },
  {
   "cell_type": "code",
   "execution_count": null,
   "id": "ec78c87c",
   "metadata": {
    "colab": {
     "base_uri": "https://localhost:8080/"
    },
    "id": "a55b0cb6",
    "outputId": "268edf3f-2cc2-4546-d5d2-2ad4851543ae"
   },
   "outputs": [],
   "source": [
    "grades.info()"
   ]
  },
  {
   "cell_type": "markdown",
   "id": "74e7aae6",
   "metadata": {},
   "source": [
    "- all features besides CGPA are object type and null values also exist"
   ]
  },
  {
   "cell_type": "markdown",
   "id": "1ba91230",
   "metadata": {
    "id": "99a0a57d"
   },
   "source": [
    "### - Analyzing null values"
   ]
  },
  {
   "cell_type": "code",
   "execution_count": null,
   "id": "297354a8",
   "metadata": {
    "colab": {
     "base_uri": "https://localhost:8080/"
    },
    "id": "89d88122",
    "outputId": "3bf6f4c6-4113-44f1-8268-c67a0725cfab"
   },
   "outputs": [],
   "source": [
    "# summing all the null values available in each column\n",
    "grades.isna().sum()"
   ]
  },
  {
   "cell_type": "markdown",
   "id": "f06e4fd7",
   "metadata": {
    "id": "9aec9f16"
   },
   "source": [
    "#### Since we don't need 4th year's grade points to predict the CGPA we can drop those features whose course codes start with 4"
   ]
  },
  {
   "cell_type": "code",
   "execution_count": null,
   "id": "da831028",
   "metadata": {
    "id": "ea1f6f0d"
   },
   "outputs": [],
   "source": [
    "# filtering out the fourth year's courses using the '-4' pattern\n",
    "fourth_year_cols=grades.filter(regex='-4').columns\n",
    "\n",
    "# dropping the filtered out courses to get courses of only first three years as features\n",
    "grades.drop(fourth_year_cols, axis=1, inplace=True)"
   ]
  },
  {
   "cell_type": "code",
   "execution_count": null,
   "id": "f2d50284",
   "metadata": {
    "colab": {
     "base_uri": "https://localhost:8080/",
     "height": 406
    },
    "id": "8d128f8b",
    "outputId": "fc72d073-f4fd-4d49-f632-51b472d237e3",
    "scrolled": false
   },
   "outputs": [],
   "source": [
    "# checking if the drop was successful\n",
    "grades.filter(regex='-4')"
   ]
  },
  {
   "cell_type": "code",
   "execution_count": null,
   "id": "b6bfbcc9",
   "metadata": {
    "colab": {
     "base_uri": "https://localhost:8080/"
    },
    "id": "94c53a08",
    "outputId": "9a94c00e-9843-4238-d6ca-a285e91487ee",
    "scrolled": true
   },
   "outputs": [],
   "source": [
    "# null values left after removal of 4th year courses\n",
    "grades.isna().sum()"
   ]
  },
  {
   "cell_type": "markdown",
   "id": "b6cfa550",
   "metadata": {
    "id": "19ff3c76"
   },
   "source": [
    "### - Analyzing Null values of Each Course Seperately"
   ]
  },
  {
   "cell_type": "markdown",
   "id": "e081f558",
   "metadata": {},
   "source": [
    "#### Courses having 1 null value each"
   ]
  },
  {
   "cell_type": "code",
   "execution_count": null,
   "id": "d3cab7f2",
   "metadata": {
    "colab": {
     "base_uri": "https://localhost:8080/",
     "height": 179
    },
    "id": "fc54085c",
    "outputId": "4a0cec5e-0ca2-4f8f-d843-64fb7a84aa5a"
   },
   "outputs": [],
   "source": [
    "## checking CY-105 which has only one null value\n",
    "grades[grades['CY-105'].isna()]"
   ]
  },
  {
   "cell_type": "markdown",
   "id": "4eb2a568",
   "metadata": {},
   "source": [
    "- from the output it is evident that most of the feature values for this row are null"
   ]
  },
  {
   "cell_type": "code",
   "execution_count": null,
   "id": "5fc76a65",
   "metadata": {
    "colab": {
     "base_uri": "https://localhost:8080/",
     "height": 179
    },
    "id": "803f5311",
    "outputId": "024dbe9e-47b8-4450-8064-4f92082c52f4"
   },
   "outputs": [],
   "source": [
    "grades[grades['HS-105/12'].isna()]"
   ]
  },
  {
   "cell_type": "markdown",
   "id": "34dffdae",
   "metadata": {},
   "source": [
    "- Common row for null values of CY-105 and HS-105 having Seat No. CS-97045"
   ]
  },
  {
   "cell_type": "code",
   "execution_count": null,
   "id": "2b9bef6a",
   "metadata": {
    "colab": {
     "base_uri": "https://localhost:8080/"
    },
    "id": "250a9523",
    "outputId": "fb67a7b5-c7e4-433b-cad3-f17548ebc3ed",
    "scrolled": true
   },
   "outputs": [],
   "source": [
    "cs97045_not_null=grades[grades['Seat No.']=='CS-97045'].notnull().sum()\n",
    "print(cs97045_not_null[(cs97045_not_null==1) & ~(cs97045_not_null.index.isin(['Seat No.', 'CGPA']))], '\\n')\n",
    "# only first year's data for CS-97045 has some valuable info.\n",
    "\n",
    "# calculating proportion of not null features in cs97045 out of the three models and deciding whether to keep the row or drop it\n",
    "print('Valuable Information:')\n",
    "print_proportions(cs97045_not_null)"
   ]
  },
  {
   "cell_type": "markdown",
   "id": "757ea90b",
   "metadata": {},
   "source": [
    "- CS-97045 provides valuable information for first year courses model only i.e 45.45% since this is also not too much we can either keep the row or drop it."
   ]
  },
  {
   "cell_type": "markdown",
   "id": "870284d3",
   "metadata": {
    "id": "57710734"
   },
   "source": [
    "#### Courses having two null values"
   ]
  },
  {
   "cell_type": "code",
   "execution_count": null,
   "id": "f7e1b03f",
   "metadata": {
    "colab": {
     "base_uri": "https://localhost:8080/",
     "height": 0
    },
    "id": "51a6463c",
    "outputId": "3af06618-fe99-4b67-88a6-559159c110a5",
    "scrolled": false
   },
   "outputs": [],
   "source": [
    "## checking CS-106 which has two null values\n",
    "grades[grades['CS-106'].isna()]\n",
    "\n",
    "## one of the null value is for CS-97045 "
   ]
  },
  {
   "cell_type": "code",
   "execution_count": null,
   "id": "ebdcfae6",
   "metadata": {
    "colab": {
     "base_uri": "https://localhost:8080/"
    },
    "id": "aacdbec7",
    "outputId": "6c637381-e3e2-437c-94c7-8a88a40e9c50"
   },
   "outputs": [],
   "source": [
    "cs97282_not_null=grades[grades['Seat No.']=='CS-97282'].notnull().sum()\n",
    "print(cs97282_not_null[cs97282_not_null==1], '\\n')\n",
    "\n",
    "## cs97282 has null values only for 3rd year\n",
    "\n",
    "# calculating proportion of not null features in cs97282 out of the three models and deciding whether to keep the row or drop it\n",
    "print('Valuable Information:')\n",
    "print_proportions(cs97282_not_null)"
   ]
  },
  {
   "cell_type": "markdown",
   "id": "9c55d73c",
   "metadata": {},
   "source": [
    "- CS-97282 provides valuable information for all three models so we have decided not to drop it in any of the split datasets."
   ]
  },
  {
   "cell_type": "code",
   "execution_count": null,
   "id": "5fb79bc7",
   "metadata": {
    "colab": {
     "base_uri": "https://localhost:8080/",
     "height": 0
    },
    "id": "dac82e8b",
    "outputId": "b2a83ac1-28bd-4030-a901-886b51bb33e5"
   },
   "outputs": [],
   "source": [
    "grades[grades['MT-111'].isna()]"
   ]
  },
  {
   "cell_type": "code",
   "execution_count": null,
   "id": "c4e3697d",
   "metadata": {
    "colab": {
     "base_uri": "https://localhost:8080/"
    },
    "id": "55eb6dc4",
    "outputId": "50be6527-c2f9-417f-a493-c3617b19c064",
    "scrolled": true
   },
   "outputs": [],
   "source": [
    "cs97566_not_null=grades[grades['Seat No.']=='CS-97566'].notnull().sum()\n",
    "print(cs97566_not_null[cs97566_not_null==1], '\\n')\n",
    "\n",
    "# calculating proportion of not null features in cs97566 out of the three models and deciding whether to keep the row or drop it\n",
    "print('Valuable Information:')\n",
    "print_proportions(cs97566_not_null)"
   ]
  },
  {
   "cell_type": "markdown",
   "id": "8710c4b8",
   "metadata": {},
   "source": [
    "- CS-97566 provides valuable information for only the first year model."
   ]
  },
  {
   "cell_type": "code",
   "execution_count": null,
   "id": "c4326859",
   "metadata": {
    "colab": {
     "base_uri": "https://localhost:8080/",
     "height": 0
    },
    "id": "6fcad0b0",
    "outputId": "fe60e524-e10b-4687-af99-d2aaed642393",
    "scrolled": true
   },
   "outputs": [],
   "source": [
    "grades[grades['EE-119'].isna()]"
   ]
  },
  {
   "cell_type": "code",
   "execution_count": null,
   "id": "2f319c14",
   "metadata": {
    "colab": {
     "base_uri": "https://localhost:8080/"
    },
    "id": "c2268011",
    "outputId": "2fcf7509-7059-4474-a713-0a049cca47ff"
   },
   "outputs": [],
   "source": [
    "cs97283_not_null=grades[grades['Seat No.']=='CS-97283'].notnull().sum()\n",
    "print(cs97283_not_null[cs97283_not_null==1], '\\n')\n",
    "\n",
    "#valuable info for all three years\n",
    "\n",
    "# calculating proportion of not null features in cs97283 out of the three models and deciding whether to keep the row or drop it\n",
    "print('Valuable Information:')\n",
    "print_proportions(cs97283_not_null)\n"
   ]
  },
  {
   "cell_type": "markdown",
   "id": "8ec1189c",
   "metadata": {
    "id": "dc5ed86e"
   },
   "source": [
    "#### overall 9 null values for MT-331 out of which 6 are important"
   ]
  },
  {
   "cell_type": "code",
   "execution_count": null,
   "id": "22f3e2f3",
   "metadata": {
    "colab": {
     "base_uri": "https://localhost:8080/",
     "height": 0
    },
    "id": "c29e8b2f",
    "outputId": "5fbe4c4c-ee99-47a1-cf3f-b23d546bd09c",
    "scrolled": false
   },
   "outputs": [],
   "source": [
    "grades[grades['MT-331'].isna()]"
   ]
  },
  {
   "cell_type": "markdown",
   "id": "8028d56a",
   "metadata": {
    "id": "49c6c66d"
   },
   "source": [
    "#### valuable information:\n",
    "- CS-97143, CS-97144, CS-97138 first year only\n",
    "- CS-97061, CS-97092, CS-97289 for first and second"
   ]
  },
  {
   "cell_type": "code",
   "execution_count": null,
   "id": "8e9d7283",
   "metadata": {
    "colab": {
     "base_uri": "https://localhost:8080/",
     "height": 0
    },
    "id": "c26ae101",
    "outputId": "cd403a12-31f4-4620-f03e-2b4e5dafbf25",
    "scrolled": false
   },
   "outputs": [],
   "source": [
    "grades[(grades['CS-317'].isna()) & ~(grades['Seat No.'].isin(['CS-97045', 'CS-97282','CS-97566','CS-97283', 'CS-97143', 'CS-97144', 'CS-97138', 'CS-97061', 'CS-97092', 'CS-97289']))]\n",
    "\n",
    "## CS-97482 & CS-97544 important for all three years"
   ]
  },
  {
   "cell_type": "markdown",
   "id": "418e3af9",
   "metadata": {
    "id": "783f4d47"
   },
   "source": [
    "#### Checking how many null values remain after removing all rows having null values:"
   ]
  },
  {
   "cell_type": "code",
   "execution_count": null,
   "id": "5c987def",
   "metadata": {
    "colab": {
     "base_uri": "https://localhost:8080/"
    },
    "id": "3779c7d6",
    "outputId": "ed40aa1a-eb18-40c9-fa19-d550d65435c0"
   },
   "outputs": [],
   "source": [
    "rows_to_drop=grades[grades['Seat No.'].isin(['CS-97045', 'CS-97282','CS-97566','CS-97283', 'CS-97143', 'CS-97144', 'CS-97138', 'CS-97061', 'CS-97092', 'CS-97289', 'CS-97482', 'CS-97544'])]\n",
    "test_null_dataset= grades.drop(rows_to_drop.index, axis=0)\n",
    "test_null_dataset.isna().sum()"
   ]
  },
  {
   "cell_type": "markdown",
   "id": "71ed1478",
   "metadata": {
    "id": "bc469b42"
   },
   "source": [
    "### - Conclusion of null values:\n",
    "- rows to drop in first year dataset : CS-97045\n",
    "- rows to drop in first + second dataset : CS-97045, CS-97566\n",
    "- rows to drop in first + second + third year dataset: CS-97045, CS-97566, CS-97143, CS-97144, CS-97138\n"
   ]
  },
  {
   "cell_type": "markdown",
   "id": "e2462a27",
   "metadata": {
    "id": "d73606b2"
   },
   "source": [
    "## Splitting Dataset"
   ]
  },
  {
   "cell_type": "markdown",
   "id": "433ef300",
   "metadata": {
    "id": "3bfa6267"
   },
   "source": [
    "#### First year dataset"
   ]
  },
  {
   "cell_type": "code",
   "execution_count": null,
   "id": "749f90df",
   "metadata": {
    "colab": {
     "base_uri": "https://localhost:8080/",
     "height": 0
    },
    "id": "4d61d79f",
    "outputId": "391c33b6-7e63-4fe6-9f79-4a94ad3cd0a4"
   },
   "outputs": [],
   "source": [
    "one_year_df= pd.concat([grades['Seat No.'],grades[fe_courses], grades['CGPA']], axis=1)\n",
    "one_year_df.head()"
   ]
  },
  {
   "cell_type": "markdown",
   "id": "0c4a2eed",
   "metadata": {
    "id": "5786a236"
   },
   "source": [
    "#### First two years dataset"
   ]
  },
  {
   "cell_type": "code",
   "execution_count": null,
   "id": "537a7fd0",
   "metadata": {
    "colab": {
     "base_uri": "https://localhost:8080/",
     "height": 0
    },
    "id": "f5735d6c",
    "outputId": "d733e4e3-ed85-4f4d-ac5b-04210f25d614"
   },
   "outputs": [],
   "source": [
    "two_years_df= pd.concat([grades['Seat No.'],grades[fe_courses], grades[se_courses], grades['CGPA']], axis=1)\n",
    "two_years_df.head()"
   ]
  },
  {
   "cell_type": "markdown",
   "id": "8369d70a",
   "metadata": {
    "id": "20c2502b"
   },
   "source": [
    "#### First three years"
   ]
  },
  {
   "cell_type": "code",
   "execution_count": null,
   "id": "4bdf3240",
   "metadata": {
    "colab": {
     "base_uri": "https://localhost:8080/",
     "height": 0
    },
    "id": "f97a0262",
    "outputId": "2f38e475-7c5f-4362-909a-153be654eacc",
    "scrolled": true
   },
   "outputs": [],
   "source": [
    "three_years= grades\n",
    "three_years.head()"
   ]
  },
  {
   "cell_type": "markdown",
   "id": "1d2716a2",
   "metadata": {
    "id": "ba9e9b27"
   },
   "source": [
    "## Cleaning Datasets"
   ]
  },
  {
   "cell_type": "markdown",
   "id": "dc133051",
   "metadata": {
    "id": "ad7fd2bf"
   },
   "source": [
    "### - Cleaning first year dataset (model 1)"
   ]
  },
  {
   "cell_type": "code",
   "execution_count": null,
   "id": "a1d70d76",
   "metadata": {
    "colab": {
     "base_uri": "https://localhost:8080/"
    },
    "id": "ed1780c4",
    "outputId": "093a0343-0ebb-4cf6-9536-0b94101b499a"
   },
   "outputs": [],
   "source": [
    "# Dropping some rows as decided from analysis of dataset\n",
    "rows_to_drop= one_year_df[one_year_df['Seat No.']=='CS-97045']\n",
    "one_year_df.drop(rows_to_drop.index, axis=0, inplace=True)\n",
    "\n",
    "## filling null values with 0 for rest of the values \n",
    "one_year_df.fillna(0, inplace=True)\n",
    "one_year_df.isna().sum()"
   ]
  },
  {
   "cell_type": "markdown",
   "id": "10ed87ad",
   "metadata": {
    "id": "a6817f26"
   },
   "source": [
    "### - Cleaning first two years dataset (model 2)"
   ]
  },
  {
   "cell_type": "code",
   "execution_count": null,
   "id": "ea590e76",
   "metadata": {
    "colab": {
     "base_uri": "https://localhost:8080/"
    },
    "id": "a87fb79b",
    "outputId": "2b5adc95-66f6-4cbe-987f-dafdd49e9d37"
   },
   "outputs": [],
   "source": [
    "# Dropping some rows as decided from analysis of dataset\n",
    "rows_to_drop= two_years_df[two_years_df['Seat No.'].isin(['CS-97045', 'CS-97566'])]\n",
    "two_years_df.drop(rows_to_drop.index, axis=0, inplace=True)\n",
    "\n",
    "## filling null values with 0 for rest of the values\n",
    "two_years_df.fillna(0, inplace=True)\n",
    "two_years_df.isna().sum()"
   ]
  },
  {
   "cell_type": "markdown",
   "id": "6bb501bb",
   "metadata": {
    "id": "975065a2"
   },
   "source": [
    "### - Cleaning first three years dataset (model 2)"
   ]
  },
  {
   "cell_type": "code",
   "execution_count": null,
   "id": "b96beb89",
   "metadata": {
    "colab": {
     "base_uri": "https://localhost:8080/"
    },
    "id": "58a60645",
    "outputId": "65c97f39-244d-4d14-a3a2-edb26ac94f13"
   },
   "outputs": [],
   "source": [
    "# Dropping some rows as decided from analysis of dataset\n",
    "rows_to_drop= three_years[three_years['Seat No.'].isin(['CS-97045', 'CS-97566', 'CS-97143', 'CS-97144', 'CS-97138'])]\n",
    "three_years.drop(rows_to_drop.index, axis=0, inplace=True)\n",
    "\n",
    "## filling null values with 0 for rest of the values\n",
    "three_years.fillna(0, inplace=True)\n",
    "three_years.isna().sum()"
   ]
  },
  {
   "cell_type": "markdown",
   "id": "ef95a450",
   "metadata": {
    "id": "ef203911"
   },
   "source": [
    "## Checking Duplicates"
   ]
  },
  {
   "cell_type": "code",
   "execution_count": null,
   "id": "c6d0e350",
   "metadata": {
    "colab": {
     "base_uri": "https://localhost:8080/",
     "height": 0
    },
    "id": "c3437ffe",
    "outputId": "61ab5ce5-c7af-4f16-c805-95bd20025d68",
    "scrolled": true
   },
   "outputs": [],
   "source": [
    "one_year_df[one_year_df.duplicated('Seat No.')]"
   ]
  },
  {
   "cell_type": "code",
   "execution_count": null,
   "id": "6cee72fc",
   "metadata": {
    "colab": {
     "base_uri": "https://localhost:8080/",
     "height": 0
    },
    "id": "390ad3dd",
    "outputId": "e6c7d31c-a23a-4ce9-fdff-84156d9aa56b"
   },
   "outputs": [],
   "source": [
    "two_years_df[two_years_df.duplicated('Seat No.')]"
   ]
  },
  {
   "cell_type": "code",
   "execution_count": null,
   "id": "10466ace",
   "metadata": {
    "colab": {
     "base_uri": "https://localhost:8080/",
     "height": 0
    },
    "id": "0157a034",
    "outputId": "12181c6e-639b-4d1e-b898-eafea0ad1710",
    "scrolled": true
   },
   "outputs": [],
   "source": [
    "three_years[three_years.duplicated('Seat No.')]"
   ]
  },
  {
   "cell_type": "code",
   "execution_count": null,
   "id": "b53e3b45",
   "metadata": {
    "id": "f16bfbdc"
   },
   "outputs": [],
   "source": [
    "### no duplicates in any of the datasets (i.e One student has one record only)"
   ]
  },
  {
   "cell_type": "markdown",
   "id": "ef78f8c0",
   "metadata": {
    "id": "43d0516d"
   },
   "source": [
    "## Data Preprocessing (Feature Encoding)"
   ]
  },
  {
   "cell_type": "markdown",
   "id": "61ad2687",
   "metadata": {
    "id": "cfb80713"
   },
   "source": [
    "### - Replacing Grades with Grade points"
   ]
  },
  {
   "cell_type": "code",
   "execution_count": null,
   "id": "cdb239c9",
   "metadata": {
    "id": "85112e18"
   },
   "outputs": [],
   "source": [
    "## creating gp dictionary to be replaced in all three datasets\n",
    "gp={\"A+\":4,\"A\":4,\"A-\":3.7,\"B+\":3.4,\"B\":3.0,\"B-\":2.7,\"C+\":2.4,\"C\":2.0,\"C-\":1.7,\"D+\":1.4,\"D\":1.0,\"I\":0,\"F\":0,\"WU\":0,\"W\":0}"
   ]
  },
  {
   "cell_type": "markdown",
   "id": "d097c533",
   "metadata": {
    "id": "098dd35c"
   },
   "source": [
    "#### Replacing in first year dataset"
   ]
  },
  {
   "cell_type": "code",
   "execution_count": null,
   "id": "94d275ad",
   "metadata": {
    "colab": {
     "base_uri": "https://localhost:8080/",
     "height": 0
    },
    "id": "d9b9a6bb",
    "outputId": "f15ca6d9-ed33-4463-9e60-efdeb24aca76"
   },
   "outputs": [],
   "source": [
    "one_year_df=one_year_df.replace(gp)\n",
    "one_year_df.head()"
   ]
  },
  {
   "cell_type": "markdown",
   "id": "108a6193",
   "metadata": {
    "id": "595f2b3f"
   },
   "source": [
    "#### Replacing in first two year dataset"
   ]
  },
  {
   "cell_type": "code",
   "execution_count": null,
   "id": "b94b19a9",
   "metadata": {
    "colab": {
     "base_uri": "https://localhost:8080/",
     "height": 0
    },
    "id": "5de9f751",
    "outputId": "96a72f0c-6827-4bff-9bca-4b402e353f68"
   },
   "outputs": [],
   "source": [
    "two_years_df=two_years_df.replace(gp)\n",
    "two_years_df.head()"
   ]
  },
  {
   "cell_type": "markdown",
   "id": "9664acb3",
   "metadata": {
    "id": "a6cdae2a"
   },
   "source": [
    "#### Replacing in first three years dataset"
   ]
  },
  {
   "cell_type": "code",
   "execution_count": null,
   "id": "d6b8e200",
   "metadata": {
    "colab": {
     "base_uri": "https://localhost:8080/",
     "height": 0
    },
    "id": "28e0041b",
    "outputId": "31a88d29-c99e-463b-c513-0b00038b9e34",
    "scrolled": true
   },
   "outputs": [],
   "source": [
    "three_years=three_years.replace(gp)\n",
    "three_years.head()"
   ]
  },
  {
   "cell_type": "code",
   "execution_count": null,
   "id": "22ce51a9",
   "metadata": {
    "id": "bcda0ffd"
   },
   "outputs": [],
   "source": [
    "## checking whether character to numerical encoding was successful or not\n",
    "## -> successful as all features except for Seat No. are float64 now"
   ]
  },
  {
   "cell_type": "code",
   "execution_count": null,
   "id": "51ec0361",
   "metadata": {
    "colab": {
     "base_uri": "https://localhost:8080/"
    },
    "id": "73b3ada7",
    "outputId": "b616a1a1-f566-4e6c-e775-d95a9dc443c6"
   },
   "outputs": [],
   "source": [
    "one_year_df.info()"
   ]
  },
  {
   "cell_type": "code",
   "execution_count": null,
   "id": "98ef92ec",
   "metadata": {
    "colab": {
     "base_uri": "https://localhost:8080/"
    },
    "id": "ebc6f810",
    "outputId": "cef12964-b7ad-4a19-ca23-4d1f5712ff62",
    "scrolled": true
   },
   "outputs": [],
   "source": [
    "two_years_df.info()"
   ]
  },
  {
   "cell_type": "code",
   "execution_count": null,
   "id": "9e1720d4",
   "metadata": {
    "colab": {
     "base_uri": "https://localhost:8080/"
    },
    "id": "e1fad1a8",
    "outputId": "e1d58417-73a2-4762-ecde-80708f39a879",
    "scrolled": true
   },
   "outputs": [],
   "source": [
    "three_years.info()"
   ]
  },
  {
   "cell_type": "markdown",
   "id": "336cf24b",
   "metadata": {
    "id": "cf52c511"
   },
   "source": [
    "# Model 1"
   ]
  },
  {
   "cell_type": "code",
   "execution_count": null,
   "id": "1c4ee60f",
   "metadata": {
    "id": "20932726"
   },
   "outputs": [],
   "source": [
    "one_year_df.drop('Seat No.', axis=1, inplace=True)\n",
    "features1 = one_year_df.drop('CGPA', axis=1)\n",
    "target1 = one_year_df['CGPA']"
   ]
  },
  {
   "cell_type": "code",
   "execution_count": null,
   "id": "e0db2abe",
   "metadata": {
    "colab": {
     "base_uri": "https://localhost:8080/",
     "height": 206
    },
    "id": "46ad8bed",
    "outputId": "688b39c4-9ab2-4815-de56-0c837ecc9c6b"
   },
   "outputs": [],
   "source": [
    "features1.head()"
   ]
  },
  {
   "cell_type": "code",
   "execution_count": null,
   "id": "8c07c38b",
   "metadata": {
    "colab": {
     "base_uri": "https://localhost:8080/"
    },
    "id": "1ffe9283",
    "outputId": "dbc4d0c2-7fd0-4371-c429-f68df2b0382f"
   },
   "outputs": [],
   "source": [
    "target1.head()"
   ]
  },
  {
   "cell_type": "code",
   "execution_count": null,
   "id": "db224aee",
   "metadata": {
    "id": "c3e8d6a1"
   },
   "outputs": [],
   "source": [
    "X_train, X_test, y_train, y_test = train_test_split(features1, target1, test_size=0.2, random_state=42)"
   ]
  },
  {
   "cell_type": "markdown",
   "id": "e26b7a55",
   "metadata": {},
   "source": [
    "### Support Vector Regression"
   ]
  },
  {
   "cell_type": "code",
   "execution_count": null,
   "id": "7c6469fb",
   "metadata": {},
   "outputs": [],
   "source": [
    "svr = SVR()\n",
    "svr.fit(X_train, y_train)\n",
    "y_pred = svr.predict(X_test)\n",
    "model1_score1_train= svr.score(X_train, y_train)\n",
    "model1_score1_test= svr.score(X_test, y_test)\n",
    "print('Training Score of  Algorithm: ',model1_score1_train)\n",
    "print('Testing Score of  Algorithm: ',model1_score1_test)"
   ]
  },
  {
   "cell_type": "code",
   "execution_count": null,
   "id": "b0bfd730",
   "metadata": {},
   "outputs": [],
   "source": [
    "scatter_visualization(X_test, y_test, y_pred, 20)"
   ]
  },
  {
   "cell_type": "code",
   "execution_count": null,
   "id": "c3ab7f74",
   "metadata": {},
   "outputs": [],
   "source": [
    "# Making Function for the algorithm\n",
    "def svr(X_train,y_train,test):\n",
    "    svr = SVR()\n",
    "    svr.fit(X_train, y_train)\n",
    "    y_pred = svr.predict(test)\n",
    "    return y_pred"
   ]
  },
  {
   "cell_type": "markdown",
   "id": "884498ff",
   "metadata": {
    "id": "98cbd993"
   },
   "source": [
    "### Linear Regression Algorithm"
   ]
  },
  {
   "cell_type": "code",
   "execution_count": null,
   "id": "9ab6d948",
   "metadata": {
    "colab": {
     "base_uri": "https://localhost:8080/"
    },
    "id": "98a44c09",
    "outputId": "3ae9e186-6854-437e-cb70-dc8fd6176fec"
   },
   "outputs": [],
   "source": [
    "# Analyzing Linear Regression Algorithm\n",
    "lr1= LinearRegression()\n",
    "lr1.fit(X_train, y_train)\n",
    "y_pred = lr1.predict(X_test)\n",
    "model1_score2_train= lr1.score(X_train, y_train)\n",
    "model1_score2_test= lr1.score(X_test, y_test)\n",
    "print('Training Score of Linear Regression Algorithm: ',model1_score2_train)\n",
    "print('Testing Score of Linear Regression Algorithm: ',model1_score2_test)"
   ]
  },
  {
   "cell_type": "code",
   "execution_count": null,
   "id": "39fc9873",
   "metadata": {
    "colab": {
     "base_uri": "https://localhost:8080/",
     "height": 537
    },
    "id": "fd6432f3",
    "outputId": "7336850c-9335-4e25-bd41-01876231fa35"
   },
   "outputs": [],
   "source": [
    "scatter_visualization(X_test, y_test, y_pred, 20)"
   ]
  },
  {
   "cell_type": "code",
   "execution_count": null,
   "id": "56e253a5",
   "metadata": {
    "id": "3eaef5d2"
   },
   "outputs": [],
   "source": [
    "# Making Function for the algorithm\n",
    "def lr(X_train,y_train,test):\n",
    "    lr= LinearRegression()\n",
    "    lr.fit(X_train, y_train)\n",
    "    y_pred = lr.predict(test)\n",
    "    return y_pred"
   ]
  },
  {
   "cell_type": "markdown",
   "id": "1fcee9a8",
   "metadata": {
    "id": "6b561caf"
   },
   "source": [
    "# Model 2"
   ]
  },
  {
   "cell_type": "code",
   "execution_count": null,
   "id": "62fa30f3",
   "metadata": {
    "id": "bb85fdd5",
    "scrolled": true
   },
   "outputs": [],
   "source": [
    "two_years_df.drop('Seat No.', axis=1, inplace=True)\n",
    "features2 = two_years_df.drop('CGPA', axis=1)\n",
    "target2 = two_years_df['CGPA']"
   ]
  },
  {
   "cell_type": "code",
   "execution_count": null,
   "id": "6a303880",
   "metadata": {
    "colab": {
     "base_uri": "https://localhost:8080/",
     "height": 268
    },
    "id": "099d4062",
    "outputId": "8ddf116f-3774-451e-913b-1bcac7066fcc",
    "scrolled": true
   },
   "outputs": [],
   "source": [
    "features2.head()"
   ]
  },
  {
   "cell_type": "code",
   "execution_count": null,
   "id": "319dc80e",
   "metadata": {
    "colab": {
     "base_uri": "https://localhost:8080/"
    },
    "id": "f5d46058",
    "outputId": "89dfa774-ea9f-4e11-cc82-8986fee47d3f",
    "scrolled": true
   },
   "outputs": [],
   "source": [
    "target2.head()"
   ]
  },
  {
   "cell_type": "code",
   "execution_count": null,
   "id": "8445172e",
   "metadata": {
    "id": "9e51aa0d"
   },
   "outputs": [],
   "source": [
    "X_train2, X_test2, y_train2, y_test2 = train_test_split(features2, target2, test_size=0.2, random_state=42)"
   ]
  },
  {
   "cell_type": "markdown",
   "id": "54a0a6c5",
   "metadata": {},
   "source": [
    "### Support Vector Regression"
   ]
  },
  {
   "cell_type": "code",
   "execution_count": null,
   "id": "ef29b44e",
   "metadata": {},
   "outputs": [],
   "source": [
    "svr2 = SVR()\n",
    "svr2.fit(X_train2, y_train2)\n",
    "y_pred2 = svr2.predict(X_test2)\n",
    "model2_score1_train= svr2.score(X_train2, y_train2)\n",
    "model2_score1_test= svr2.score(X_test2, y_test2)\n",
    "print('Training Score of  Algorithm: ',model2_score1_train)\n",
    "print('Testing Score of  Algorithm: ',model2_score1_test)"
   ]
  },
  {
   "cell_type": "code",
   "execution_count": null,
   "id": "0575983c",
   "metadata": {
    "colab": {
     "base_uri": "https://localhost:8080/",
     "height": 537
    },
    "id": "91bcad1a",
    "outputId": "9f2ef954-e6e1-4484-a6dc-21855b1d3e10"
   },
   "outputs": [],
   "source": [
    "scatter_visualization(X_test2, y_test2, y_pred2, 20)"
   ]
  },
  {
   "cell_type": "markdown",
   "id": "5c0b9598",
   "metadata": {
    "id": "416230ca"
   },
   "source": [
    "### Linear Regression Algorithm"
   ]
  },
  {
   "cell_type": "code",
   "execution_count": null,
   "id": "9832c7a9",
   "metadata": {
    "colab": {
     "base_uri": "https://localhost:8080/"
    },
    "id": "f28163e8",
    "outputId": "d747b7d4-37a6-4d2a-fe89-de63545b0d37"
   },
   "outputs": [],
   "source": [
    "# Analyzing Linear Regression Algorithm\n",
    "lr2= LinearRegression()\n",
    "lr2.fit(X_train2, y_train2)\n",
    "y_pred2 = lr2.predict(X_test2)\n",
    "model2_score2_train= lr2.score(X_train2, y_train2)\n",
    "model2_score2_test= lr2.score(X_test2, y_test2)\n",
    "print('Training Score of Linear Regression Algorithm: ',model2_score2_train)\n",
    "print('Testing Score of Linear Regression Algorithm: ',model2_score2_test)"
   ]
  },
  {
   "cell_type": "code",
   "execution_count": null,
   "id": "f6b194f9",
   "metadata": {
    "colab": {
     "base_uri": "https://localhost:8080/",
     "height": 537
    },
    "id": "22f1faa4",
    "outputId": "81d7946e-3959-4c97-94c9-dc247563e8b5"
   },
   "outputs": [],
   "source": [
    "scatter_visualization(X_test2, y_test2, y_pred2, 20)"
   ]
  },
  {
   "cell_type": "markdown",
   "id": "2278d7f8",
   "metadata": {
    "id": "a21b3e52"
   },
   "source": [
    "# Model 3"
   ]
  },
  {
   "cell_type": "code",
   "execution_count": null,
   "id": "00cb377c",
   "metadata": {
    "colab": {
     "base_uri": "https://localhost:8080/",
     "height": 288
    },
    "id": "a932a817",
    "outputId": "3901708d-5df3-4854-ac98-599816c6d8cc",
    "scrolled": true
   },
   "outputs": [],
   "source": [
    "three_years.drop('Seat No.', axis=1, inplace=True)\n",
    "features3 = three_years.drop('CGPA', axis=1)\n",
    "target3 = three_years['CGPA']\n",
    "features3.head()"
   ]
  },
  {
   "cell_type": "code",
   "execution_count": null,
   "id": "980839ec",
   "metadata": {
    "id": "f3b494be"
   },
   "outputs": [],
   "source": [
    "X_train3, X_test3, y_train3, y_test3 = train_test_split(features3, target3, test_size=0.2, random_state=42)"
   ]
  },
  {
   "cell_type": "markdown",
   "id": "5b3bdaaf",
   "metadata": {},
   "source": [
    "### Support Vector Regression"
   ]
  },
  {
   "cell_type": "code",
   "execution_count": null,
   "id": "5bdb95f3",
   "metadata": {},
   "outputs": [],
   "source": [
    "svr3 = SVR()\n",
    "svr3.fit(X_train3, y_train3)\n",
    "y_pred3 = svr3.predict(X_test3)\n",
    "model3_score1_train= svr3.score(X_train3, y_train3)\n",
    "model3_score1_test= svr3.score(X_test3, y_test3)\n",
    "print('Training Score of  Algorithm: ',model3_score1_train)\n",
    "print('Testing Score of  Algorithm: ',model3_score1_test)"
   ]
  },
  {
   "cell_type": "code",
   "execution_count": null,
   "id": "2cfbba5c",
   "metadata": {
    "colab": {
     "base_uri": "https://localhost:8080/",
     "height": 537
    },
    "id": "260cd6a4",
    "outputId": "0e3f7936-f892-48e7-e215-75afd62fd058"
   },
   "outputs": [],
   "source": [
    "scatter_visualization(X_test3, y_test3, y_pred3, 20)"
   ]
  },
  {
   "cell_type": "markdown",
   "id": "722f16f1",
   "metadata": {
    "id": "b500ea9d"
   },
   "source": [
    "### Linear Regression Algorithm"
   ]
  },
  {
   "cell_type": "code",
   "execution_count": null,
   "id": "01bbe44d",
   "metadata": {
    "colab": {
     "base_uri": "https://localhost:8080/"
    },
    "id": "2d271ae6",
    "outputId": "d57c7008-c7ef-409f-b729-8a4b0c3c781b"
   },
   "outputs": [],
   "source": [
    "# Analyzing Linear Regression Algorithm\n",
    "lr3= LinearRegression()\n",
    "lr3.fit(X_train3, y_train3)\n",
    "model3_score2_train= lr3.score(X_train3, y_train3)\n",
    "model3_score2_test= lr3.score(X_test3, y_test3)\n",
    "print('Training Score of Linear Regression Algorithm: ',model3_score2_train)\n",
    "print('Testing Score of Linear Regression Algorithm: ',model3_score2_test)\n",
    "y_pred3 = lr3.predict(X_test3)"
   ]
  },
  {
   "cell_type": "code",
   "execution_count": null,
   "id": "41ecd747",
   "metadata": {
    "colab": {
     "base_uri": "https://localhost:8080/",
     "height": 537
    },
    "id": "15c71a65",
    "outputId": "f2193218-d407-41dd-894f-ec22ebfa5b44",
    "scrolled": true
   },
   "outputs": [],
   "source": [
    "scatter_visualization(X_test3, y_test3, y_pred3, 20)"
   ]
  },
  {
   "cell_type": "markdown",
   "id": "952bd294",
   "metadata": {},
   "source": [
    "## Comparision of Model Scores"
   ]
  },
  {
   "cell_type": "code",
   "execution_count": null,
   "id": "9580ce19",
   "metadata": {
    "scrolled": true
   },
   "outputs": [],
   "source": [
    "plt.plot(['model 1','model 2', 'model 3'],[model1_score1_train, model2_score1_train, model3_score1_train])\n",
    "plt.title('SVR Train')\n",
    "plt.xlabel('Models')\n",
    "plt.ylabel('Train Scores')\n",
    "plt.show()\n",
    "plt.plot(['model 1','model 2', 'model 3'],[model1_score1_test, model2_score1_test, model3_score1_test])\n",
    "plt.title('SVR Test')\n",
    "plt.xlabel('Models')\n",
    "plt.ylabel('Train Scores')\n",
    "plt.show()"
   ]
  },
  {
   "cell_type": "code",
   "execution_count": null,
   "id": "f24c1c3c",
   "metadata": {},
   "outputs": [],
   "source": [
    "plt.plot(['model 1','model 2', 'model 3'],[model1_score2_train, model2_score2_train, model3_score2_train])\n",
    "plt.title('Linear Regression Train')\n",
    "plt.xlabel('Models')\n",
    "plt.ylabel('Train Scores')\n",
    "plt.show()\n",
    "plt.plot(['model 1','model 2', 'model 3'],[model1_score2_test, model2_score2_test, model3_score2_test])\n",
    "plt.title('Linear Regression Test')\n",
    "plt.xlabel('Models')\n",
    "plt.ylabel('Train Scores')\n",
    "plt.show()"
   ]
  },
  {
   "cell_type": "markdown",
   "id": "b8767616",
   "metadata": {
    "id": "arhfGI_UdVR_"
   },
   "source": [
    "## User Interface"
   ]
  },
  {
   "cell_type": "code",
   "execution_count": null,
   "id": "784e19a1",
   "metadata": {
    "colab": {
     "base_uri": "https://localhost:8080/"
    },
    "id": "80ada869",
    "outputId": "279ec55a-514e-418d-9b01-9a8e2d339b6f",
    "scrolled": true
   },
   "outputs": [],
   "source": [
    "while True:\n",
    "    print('\\nSELECT YEAR FROM THE FOLLOWING:\\n1. First Year\\n2. Second Year\\n3. Third Year\\n4. Exit')\n",
    "    year=input('\\nPlease enter your year: ')\n",
    "    if year in ['1','2','3','4']:\n",
    "       # break\n",
    "        grs=[]\n",
    "        if year == '1':\n",
    "            for courses in fe_courses:\n",
    "                print(\"Enter Your grades for\",courses) \n",
    "                gr=input()\n",
    "                grs.append(gr.upper())\n",
    "            testgrades= pd.Series(grs)\n",
    "            testgrades= testgrades.replace(gp)\n",
    "            print('\\nPrediction by Linear Regression Model\\n')\n",
    "            GPA_lr=lr(X_train,y_train,[testgrades])\n",
    "            for element in GPA_lr:\n",
    "                print('\\tPredicted CGPA in Fourth year: ',element)\n",
    "            print('\\nPrediction by Support Vector Regression Model\\n')\n",
    "            GPA_svr=svr(X_train,y_train,[testgrades])\n",
    "            for element in GPA_svr:\n",
    "                print('\\tPredicted CGPA in Fourth year: ',element)\n",
    "\n",
    "        elif year == '2':\n",
    "            for courses in features2:\n",
    "                print(\"Enter Your grades for\",courses) \n",
    "                gr=input()\n",
    "                grs.append(gr.upper())\n",
    "            testgrades= pd.Series(grs)\n",
    "            testgrades= testgrades.replace(gp)\n",
    "            print('\\nPrediction by Linear Regression Model\\n')\n",
    "            GPA_lr=lr(X_train2,y_train2,[testgrades])\n",
    "            for element in GPA_lr:\n",
    "                print('\\tPredicted CGPA in Fourth year: ',element)\n",
    "            print('\\nPrediction by Support Vector Regression Model\\n')\n",
    "            GPA_svr=svr(X_train2,y_train2,[testgrades])\n",
    "            for element in GPA_svr:\n",
    "                print('\\tPredicted CGPA in Fourth year: ',element)\n",
    "        elif year== '3':\n",
    "            for courses in features3:\n",
    "                print(\"Enter Your grades for\",courses) \n",
    "                gr=input()\n",
    "                grs.append(gr.upper())\n",
    "            testgrades= pd.Series(grs)\n",
    "            testgrades= testgrades.replace(gp)\n",
    "            print('\\nPrediction by Linear Regression Model\\n')\n",
    "            GPA_lr=lr(X_train3,y_train3,[testgrades])\n",
    "            for element in GPA_lr:\n",
    "                print('\\tPredicted CGPA in Fourth year: ',element)\n",
    "            print('\\nPrediction by Support Vector Regression Model\\n')\n",
    "            GPA_svr=svr(X_train3,y_train3,[testgrades])\n",
    "            for element in GPA_svr:\n",
    "                print('\\tPredicted CGPA in Fourth year: ',element)\n",
    "        else:\n",
    "            print('Exit from Interface')\n",
    "    else:\n",
    "        print('Invalid Input!\\n Use the given options\\n')"
   ]
  }
 ],
 "metadata": {
  "colab": {
   "name": "MachineLearning.ipynb",
   "provenance": []
  },
  "kernelspec": {
   "display_name": "Python 3 (ipykernel)",
   "language": "python",
   "name": "python3"
  },
  "language_info": {
   "codemirror_mode": {
    "name": "ipython",
    "version": 3
   },
   "file_extension": ".py",
   "mimetype": "text/x-python",
   "name": "python",
   "nbconvert_exporter": "python",
   "pygments_lexer": "ipython3",
   "version": "3.9.12"
  }
 },
 "nbformat": 4,
 "nbformat_minor": 5
}
